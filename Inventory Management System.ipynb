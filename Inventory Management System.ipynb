{
 "cells": [
  {
   "cell_type": "code",
   "execution_count": 1,
   "id": "b665ba85",
   "metadata": {},
   "outputs": [],
   "source": [
    "record = {1101:{'name':'candy','quantity': 20,'price': 5,'brand':'cans'}, \n",
    "          1102 :{'name':'cake','quantity': 50,'price': 200,'brand':'cakes n crafts'},\n",
    "          1103 :{'name':'soap','quantity': 40,'price': 30,'brand':'Liril'},\n",
    "          1104 :{'name':'brush','quantity': 20,'price': 20,'brand':'Oral B'},\n",
    "          1105 :{'name':'Paste','quantity': 70,'price': 90,'brand':'Patanjali'},\n",
    "          1106 :{'name':'oil', 'quantity': 10,'price': 100,'brand':'Saffola'},\n",
    "          1107 :{'name':'Haldi','quantity': 30,'price': 90,'brand':'Jwala'},\n",
    "          1108 :{'name':'Mirch','quantity': 20,'price': 40,'brand':'Jwala'},\n",
    "          1109 :{'name':'Detergent','quantity': 100,'price': 40,'brand':'Ghadi'},\n",
    "          11010 :{'name':'Chocolate','quantity': 50,'price': 20,'brand':'Dairy Milk'},\n",
    "          11011 :{'name':'Biscuit','quantity': 20,'price': 10,'brand':'baurbon'},\n",
    "          11012 :{'name':'bournVita','quantity': 20,'price': 10,'brand':'Cadbury'},\n",
    "          11013 :{'name':'Ghee','quantity': 50,'price': 300,'brand':'Amul'},\n",
    "          11014 :{'name':'milk','quantity': 20,'price': 50,'brand':'Amul'},\n",
    "          11015 :{'name':'MouthFreshner','quantity': 20,'price': 5,'brand':'gold'}, \n",
    "          11016 :{'name':'shampoo','quantity': 40,'price': 5,'brand':'dove'},\n",
    "          11017 :{'name':'maggie','quantity': 20,'price': 20,'brand':'nestle'},\n",
    "          11018 :{'name':'pasta','quantity': 20,'price': 30,'brand':'nestle'},\n",
    "          11019 :{'name':'yippee','quantity': 30,'price': 20,'brand':'yippee'},\n",
    "          11020 :{'name':'perk','quantity': 20,'price': 10,'brand':'perk'},\n",
    "          11021 :{'name':'pencil','quantity': 20,'price': 4,'brand':'apsara'},\n",
    "          11022 :{'name':'rubber','quantity': 20,'price': 10,'brand':'apsara'},\n",
    "          11023 :{'name':'pen','quantity': 20,'price': 10,'brand':'pentech'},\n",
    "          11024 :{'name':'copies','quantity': 20,'price': 50,'brand':'NoteBook'},\n",
    "          11025 :{'name':'bag','quantity': 20,'price': 400,'brand':'skybags'},\n",
    "          11026 :{'name':'coffee','quantity': 40,'price': 10,'brand':'nestle'},\n",
    "          11027 :{'name':'apple','quantity': 20,'price': 10,'brand':'apple'},\n",
    "          11028 :{'name':'lunch','quantity': 20,'price': 150,'brand':'steel'},\n",
    "          11029 :{'name':'waterbottle','quantity': 20,'price': 60,'brand':'water'},\n",
    "          11030 :{'name':'sugarfree','quantity': 20,'price': 60,'brand':'madhur'}\n",
    "              \n",
    "\n",
    "}"
   ]
  },
  {
   "cell_type": "code",
   "execution_count": 2,
   "id": "be2208fc",
   "metadata": {},
   "outputs": [
    {
     "data": {
      "text/plain": [
       "{1101: {'name': 'candy', 'quantity': 20, 'price': 5, 'brand': 'cans'},\n",
       " 1102: {'name': 'cake',\n",
       "  'quantity': 50,\n",
       "  'price': 200,\n",
       "  'brand': 'cakes n crafts'},\n",
       " 1103: {'name': 'soap', 'quantity': 40, 'price': 30, 'brand': 'Liril'},\n",
       " 1104: {'name': 'brush', 'quantity': 20, 'price': 20, 'brand': 'Oral B'},\n",
       " 1105: {'name': 'Paste', 'quantity': 70, 'price': 90, 'brand': 'Patanjali'},\n",
       " 1106: {'name': 'oil', 'quantity': 10, 'price': 100, 'brand': 'Saffola'},\n",
       " 1107: {'name': 'Haldi', 'quantity': 30, 'price': 90, 'brand': 'Jwala'},\n",
       " 1108: {'name': 'Mirch', 'quantity': 20, 'price': 40, 'brand': 'Jwala'},\n",
       " 1109: {'name': 'Detergent', 'quantity': 100, 'price': 40, 'brand': 'Ghadi'},\n",
       " 11010: {'name': 'Chocolate',\n",
       "  'quantity': 50,\n",
       "  'price': 20,\n",
       "  'brand': 'Dairy Milk'},\n",
       " 11011: {'name': 'Biscuit', 'quantity': 20, 'price': 10, 'brand': 'baurbon'},\n",
       " 11012: {'name': 'bournVita', 'quantity': 20, 'price': 10, 'brand': 'Cadbury'},\n",
       " 11013: {'name': 'Ghee', 'quantity': 50, 'price': 300, 'brand': 'Amul'},\n",
       " 11014: {'name': 'milk', 'quantity': 20, 'price': 50, 'brand': 'Amul'},\n",
       " 11015: {'name': 'MouthFreshner', 'quantity': 20, 'price': 5, 'brand': 'gold'},\n",
       " 11016: {'name': 'shampoo', 'quantity': 40, 'price': 5, 'brand': 'dove'},\n",
       " 11017: {'name': 'maggie', 'quantity': 20, 'price': 20, 'brand': 'nestle'},\n",
       " 11018: {'name': 'pasta', 'quantity': 20, 'price': 30, 'brand': 'nestle'},\n",
       " 11019: {'name': 'yippee', 'quantity': 30, 'price': 20, 'brand': 'yippee'},\n",
       " 11020: {'name': 'perk', 'quantity': 20, 'price': 10, 'brand': 'perk'},\n",
       " 11021: {'name': 'pencil', 'quantity': 20, 'price': 4, 'brand': 'apsara'},\n",
       " 11022: {'name': 'rubber', 'quantity': 20, 'price': 10, 'brand': 'apsara'},\n",
       " 11023: {'name': 'pen', 'quantity': 20, 'price': 10, 'brand': 'pentech'},\n",
       " 11024: {'name': 'copies', 'quantity': 20, 'price': 50, 'brand': 'NoteBook'},\n",
       " 11025: {'name': 'bag', 'quantity': 20, 'price': 400, 'brand': 'skybags'},\n",
       " 11026: {'name': 'coffee', 'quantity': 40, 'price': 10, 'brand': 'nestle'},\n",
       " 11027: {'name': 'apple', 'quantity': 20, 'price': 10, 'brand': 'apple'},\n",
       " 11028: {'name': 'lunch', 'quantity': 20, 'price': 150, 'brand': 'steel'},\n",
       " 11029: {'name': 'waterbottle', 'quantity': 20, 'price': 60, 'brand': 'water'},\n",
       " 11030: {'name': 'sugarfree', 'quantity': 20, 'price': 60, 'brand': 'madhur'}}"
      ]
     },
     "execution_count": 2,
     "metadata": {},
     "output_type": "execute_result"
    }
   ],
   "source": [
    "record"
   ]
  },
  {
   "cell_type": "code",
   "execution_count": 3,
   "id": "06a91447",
   "metadata": {},
   "outputs": [],
   "source": [
    "import json"
   ]
  },
  {
   "cell_type": "code",
   "execution_count": 4,
   "id": "bda4730d",
   "metadata": {},
   "outputs": [],
   "source": [
    "js = json.dumps(record)"
   ]
  },
  {
   "cell_type": "code",
   "execution_count": 5,
   "id": "e27fec26",
   "metadata": {},
   "outputs": [
    {
     "data": {
      "text/plain": [
       "'{\"1101\": {\"name\": \"candy\", \"quantity\": 20, \"price\": 5, \"brand\": \"cans\"}, \"1102\": {\"name\": \"cake\", \"quantity\": 50, \"price\": 200, \"brand\": \"cakes n crafts\"}, \"1103\": {\"name\": \"soap\", \"quantity\": 40, \"price\": 30, \"brand\": \"Liril\"}, \"1104\": {\"name\": \"brush\", \"quantity\": 20, \"price\": 20, \"brand\": \"Oral B\"}, \"1105\": {\"name\": \"Paste\", \"quantity\": 70, \"price\": 90, \"brand\": \"Patanjali\"}, \"1106\": {\"name\": \"oil\", \"quantity\": 10, \"price\": 100, \"brand\": \"Saffola\"}, \"1107\": {\"name\": \"Haldi\", \"quantity\": 30, \"price\": 90, \"brand\": \"Jwala\"}, \"1108\": {\"name\": \"Mirch\", \"quantity\": 20, \"price\": 40, \"brand\": \"Jwala\"}, \"1109\": {\"name\": \"Detergent\", \"quantity\": 100, \"price\": 40, \"brand\": \"Ghadi\"}, \"11010\": {\"name\": \"Chocolate\", \"quantity\": 50, \"price\": 20, \"brand\": \"Dairy Milk\"}, \"11011\": {\"name\": \"Biscuit\", \"quantity\": 20, \"price\": 10, \"brand\": \"baurbon\"}, \"11012\": {\"name\": \"bournVita\", \"quantity\": 20, \"price\": 10, \"brand\": \"Cadbury\"}, \"11013\": {\"name\": \"Ghee\", \"quantity\": 50, \"price\": 300, \"brand\": \"Amul\"}, \"11014\": {\"name\": \"milk\", \"quantity\": 20, \"price\": 50, \"brand\": \"Amul\"}, \"11015\": {\"name\": \"MouthFreshner\", \"quantity\": 20, \"price\": 5, \"brand\": \"gold\"}, \"11016\": {\"name\": \"shampoo\", \"quantity\": 40, \"price\": 5, \"brand\": \"dove\"}, \"11017\": {\"name\": \"maggie\", \"quantity\": 20, \"price\": 20, \"brand\": \"nestle\"}, \"11018\": {\"name\": \"pasta\", \"quantity\": 20, \"price\": 30, \"brand\": \"nestle\"}, \"11019\": {\"name\": \"yippee\", \"quantity\": 30, \"price\": 20, \"brand\": \"yippee\"}, \"11020\": {\"name\": \"perk\", \"quantity\": 20, \"price\": 10, \"brand\": \"perk\"}, \"11021\": {\"name\": \"pencil\", \"quantity\": 20, \"price\": 4, \"brand\": \"apsara\"}, \"11022\": {\"name\": \"rubber\", \"quantity\": 20, \"price\": 10, \"brand\": \"apsara\"}, \"11023\": {\"name\": \"pen\", \"quantity\": 20, \"price\": 10, \"brand\": \"pentech\"}, \"11024\": {\"name\": \"copies\", \"quantity\": 20, \"price\": 50, \"brand\": \"NoteBook\"}, \"11025\": {\"name\": \"bag\", \"quantity\": 20, \"price\": 400, \"brand\": \"skybags\"}, \"11026\": {\"name\": \"coffee\", \"quantity\": 40, \"price\": 10, \"brand\": \"nestle\"}, \"11027\": {\"name\": \"apple\", \"quantity\": 20, \"price\": 10, \"brand\": \"apple\"}, \"11028\": {\"name\": \"lunch\", \"quantity\": 20, \"price\": 150, \"brand\": \"steel\"}, \"11029\": {\"name\": \"waterbottle\", \"quantity\": 20, \"price\": 60, \"brand\": \"water\"}, \"11030\": {\"name\": \"sugarfree\", \"quantity\": 20, \"price\": 60, \"brand\": \"madhur\"}}'"
      ]
     },
     "execution_count": 5,
     "metadata": {},
     "output_type": "execute_result"
    }
   ],
   "source": [
    "js"
   ]
  },
  {
   "cell_type": "markdown",
   "id": "004b3fbd",
   "metadata": {},
   "source": [
    "# Writing to record file"
   ]
  },
  {
   "cell_type": "code",
   "execution_count": 6,
   "id": "86fb04a3",
   "metadata": {},
   "outputs": [],
   "source": [
    "fd = open('record.json','w')\n",
    "fd.write(js)\n",
    "fd.close()"
   ]
  },
  {
   "cell_type": "markdown",
   "id": "a6e463d1",
   "metadata": {},
   "source": [
    "# Reading the file"
   ]
  },
  {
   "cell_type": "code",
   "execution_count": 7,
   "id": "24b2ce3a",
   "metadata": {},
   "outputs": [],
   "source": [
    "fd = open('record.json','r')\n",
    "r = fd.read()\n",
    "fd.close()"
   ]
  },
  {
   "cell_type": "code",
   "execution_count": 8,
   "id": "a9f1a798",
   "metadata": {},
   "outputs": [],
   "source": [
    "record = json.loads(r)"
   ]
  },
  {
   "cell_type": "code",
   "execution_count": 9,
   "id": "8eea9132",
   "metadata": {},
   "outputs": [
    {
     "data": {
      "text/plain": [
       "{'1101': {'name': 'candy', 'quantity': 20, 'price': 5, 'brand': 'cans'},\n",
       " '1102': {'name': 'cake',\n",
       "  'quantity': 50,\n",
       "  'price': 200,\n",
       "  'brand': 'cakes n crafts'},\n",
       " '1103': {'name': 'soap', 'quantity': 40, 'price': 30, 'brand': 'Liril'},\n",
       " '1104': {'name': 'brush', 'quantity': 20, 'price': 20, 'brand': 'Oral B'},\n",
       " '1105': {'name': 'Paste', 'quantity': 70, 'price': 90, 'brand': 'Patanjali'},\n",
       " '1106': {'name': 'oil', 'quantity': 10, 'price': 100, 'brand': 'Saffola'},\n",
       " '1107': {'name': 'Haldi', 'quantity': 30, 'price': 90, 'brand': 'Jwala'},\n",
       " '1108': {'name': 'Mirch', 'quantity': 20, 'price': 40, 'brand': 'Jwala'},\n",
       " '1109': {'name': 'Detergent', 'quantity': 100, 'price': 40, 'brand': 'Ghadi'},\n",
       " '11010': {'name': 'Chocolate',\n",
       "  'quantity': 50,\n",
       "  'price': 20,\n",
       "  'brand': 'Dairy Milk'},\n",
       " '11011': {'name': 'Biscuit', 'quantity': 20, 'price': 10, 'brand': 'baurbon'},\n",
       " '11012': {'name': 'bournVita',\n",
       "  'quantity': 20,\n",
       "  'price': 10,\n",
       "  'brand': 'Cadbury'},\n",
       " '11013': {'name': 'Ghee', 'quantity': 50, 'price': 300, 'brand': 'Amul'},\n",
       " '11014': {'name': 'milk', 'quantity': 20, 'price': 50, 'brand': 'Amul'},\n",
       " '11015': {'name': 'MouthFreshner',\n",
       "  'quantity': 20,\n",
       "  'price': 5,\n",
       "  'brand': 'gold'},\n",
       " '11016': {'name': 'shampoo', 'quantity': 40, 'price': 5, 'brand': 'dove'},\n",
       " '11017': {'name': 'maggie', 'quantity': 20, 'price': 20, 'brand': 'nestle'},\n",
       " '11018': {'name': 'pasta', 'quantity': 20, 'price': 30, 'brand': 'nestle'},\n",
       " '11019': {'name': 'yippee', 'quantity': 30, 'price': 20, 'brand': 'yippee'},\n",
       " '11020': {'name': 'perk', 'quantity': 20, 'price': 10, 'brand': 'perk'},\n",
       " '11021': {'name': 'pencil', 'quantity': 20, 'price': 4, 'brand': 'apsara'},\n",
       " '11022': {'name': 'rubber', 'quantity': 20, 'price': 10, 'brand': 'apsara'},\n",
       " '11023': {'name': 'pen', 'quantity': 20, 'price': 10, 'brand': 'pentech'},\n",
       " '11024': {'name': 'copies', 'quantity': 20, 'price': 50, 'brand': 'NoteBook'},\n",
       " '11025': {'name': 'bag', 'quantity': 20, 'price': 400, 'brand': 'skybags'},\n",
       " '11026': {'name': 'coffee', 'quantity': 40, 'price': 10, 'brand': 'nestle'},\n",
       " '11027': {'name': 'apple', 'quantity': 20, 'price': 10, 'brand': 'apple'},\n",
       " '11028': {'name': 'lunch', 'quantity': 20, 'price': 150, 'brand': 'steel'},\n",
       " '11029': {'name': 'waterbottle',\n",
       "  'quantity': 20,\n",
       "  'price': 60,\n",
       "  'brand': 'water'},\n",
       " '11030': {'name': 'sugarfree',\n",
       "  'quantity': 20,\n",
       "  'price': 60,\n",
       "  'brand': 'madhur'}}"
      ]
     },
     "execution_count": 9,
     "metadata": {},
     "output_type": "execute_result"
    }
   ],
   "source": [
    "record"
   ]
  },
  {
   "cell_type": "markdown",
   "id": "8f8b6ccc",
   "metadata": {},
   "source": [
    "# Adding and Updating New Item in Inventory"
   ]
  },
  {
   "cell_type": "code",
   "execution_count": 10,
   "id": "68645456",
   "metadata": {},
   "outputs": [
    {
     "name": "stdout",
     "output_type": "stream",
     "text": [
      "Enter Product ID : 11032\n",
      "Enter Product Name : deo\n",
      "Enter the price of product :500\n",
      "Enter the Quaniity : 50\n",
      "Enter the brand of product : Axe\n"
     ]
    }
   ],
   "source": [
    "prod_id = input(\"Enter Product ID : \")\n",
    "name = input(\"Enter Product Name : \")\n",
    "pr = int(input(\"Enter the price of product :\"))\n",
    "qn = int(input(\"Enter the Quaniity : \"))\n",
    "brand = input(\"Enter the brand of product : \")\n",
    "\n",
    "\n",
    "record[prod_id] = {'brand': brand, 'name': name,'price': pr, 'quantity': qn}\n",
    "\n",
    "js = json.dumps(record)\n",
    "\n",
    "fd = open('record.json','w')\n",
    "fd.write(js)\n",
    "fd.close()"
   ]
  },
  {
   "cell_type": "code",
   "execution_count": 11,
   "id": "c43756f9",
   "metadata": {},
   "outputs": [
    {
     "data": {
      "text/plain": [
       "{'1101': {'name': 'candy', 'quantity': 20, 'price': 5, 'brand': 'cans'},\n",
       " '1102': {'name': 'cake',\n",
       "  'quantity': 50,\n",
       "  'price': 200,\n",
       "  'brand': 'cakes n crafts'},\n",
       " '1103': {'name': 'soap', 'quantity': 40, 'price': 30, 'brand': 'Liril'},\n",
       " '1104': {'name': 'brush', 'quantity': 20, 'price': 20, 'brand': 'Oral B'},\n",
       " '1105': {'name': 'Paste', 'quantity': 70, 'price': 90, 'brand': 'Patanjali'},\n",
       " '1106': {'name': 'oil', 'quantity': 10, 'price': 100, 'brand': 'Saffola'},\n",
       " '1107': {'name': 'Haldi', 'quantity': 30, 'price': 90, 'brand': 'Jwala'},\n",
       " '1108': {'name': 'Mirch', 'quantity': 20, 'price': 40, 'brand': 'Jwala'},\n",
       " '1109': {'name': 'Detergent', 'quantity': 100, 'price': 40, 'brand': 'Ghadi'},\n",
       " '11010': {'name': 'Chocolate',\n",
       "  'quantity': 50,\n",
       "  'price': 20,\n",
       "  'brand': 'Dairy Milk'},\n",
       " '11011': {'name': 'Biscuit', 'quantity': 20, 'price': 10, 'brand': 'baurbon'},\n",
       " '11012': {'name': 'bournVita',\n",
       "  'quantity': 20,\n",
       "  'price': 10,\n",
       "  'brand': 'Cadbury'},\n",
       " '11013': {'name': 'Ghee', 'quantity': 50, 'price': 300, 'brand': 'Amul'},\n",
       " '11014': {'name': 'milk', 'quantity': 20, 'price': 50, 'brand': 'Amul'},\n",
       " '11015': {'name': 'MouthFreshner',\n",
       "  'quantity': 20,\n",
       "  'price': 5,\n",
       "  'brand': 'gold'},\n",
       " '11016': {'name': 'shampoo', 'quantity': 40, 'price': 5, 'brand': 'dove'},\n",
       " '11017': {'name': 'maggie', 'quantity': 20, 'price': 20, 'brand': 'nestle'},\n",
       " '11018': {'name': 'pasta', 'quantity': 20, 'price': 30, 'brand': 'nestle'},\n",
       " '11019': {'name': 'yippee', 'quantity': 30, 'price': 20, 'brand': 'yippee'},\n",
       " '11020': {'name': 'perk', 'quantity': 20, 'price': 10, 'brand': 'perk'},\n",
       " '11021': {'name': 'pencil', 'quantity': 20, 'price': 4, 'brand': 'apsara'},\n",
       " '11022': {'name': 'rubber', 'quantity': 20, 'price': 10, 'brand': 'apsara'},\n",
       " '11023': {'name': 'pen', 'quantity': 20, 'price': 10, 'brand': 'pentech'},\n",
       " '11024': {'name': 'copies', 'quantity': 20, 'price': 50, 'brand': 'NoteBook'},\n",
       " '11025': {'name': 'bag', 'quantity': 20, 'price': 400, 'brand': 'skybags'},\n",
       " '11026': {'name': 'coffee', 'quantity': 40, 'price': 10, 'brand': 'nestle'},\n",
       " '11027': {'name': 'apple', 'quantity': 20, 'price': 10, 'brand': 'apple'},\n",
       " '11028': {'name': 'lunch', 'quantity': 20, 'price': 150, 'brand': 'steel'},\n",
       " '11029': {'name': 'waterbottle',\n",
       "  'quantity': 20,\n",
       "  'price': 60,\n",
       "  'brand': 'water'},\n",
       " '11030': {'name': 'sugarfree',\n",
       "  'quantity': 20,\n",
       "  'price': 60,\n",
       "  'brand': 'madhur'},\n",
       " '11032': {'brand': 'Axe', 'name': 'deo', 'price': 500, 'quantity': 50}}"
      ]
     },
     "execution_count": 11,
     "metadata": {},
     "output_type": "execute_result"
    }
   ],
   "source": [
    "record"
   ]
  },
  {
   "cell_type": "markdown",
   "id": "c770ea07",
   "metadata": {},
   "source": [
    "# Checking after updating the Inventory"
   ]
  },
  {
   "cell_type": "code",
   "execution_count": 12,
   "id": "8bcee089",
   "metadata": {},
   "outputs": [
    {
     "data": {
      "text/plain": [
       "{'brand': 'Axe', 'name': 'deo', 'price': 500, 'quantity': 50}"
      ]
     },
     "execution_count": 12,
     "metadata": {},
     "output_type": "execute_result"
    }
   ],
   "source": [
    "record['11032']"
   ]
  },
  {
   "cell_type": "code",
   "execution_count": 13,
   "id": "7d53892e",
   "metadata": {},
   "outputs": [],
   "source": [
    "import json\n",
    "from datetime import datetime"
   ]
  },
  {
   "cell_type": "code",
   "execution_count": 17,
   "id": "621af57a",
   "metadata": {},
   "outputs": [
    {
     "data": {
      "text/plain": [
       "{'1101': {'name': 'candy', 'quantity': 20, 'price': 5, 'brand': 'cans'},\n",
       " '1102': {'name': 'cake',\n",
       "  'quantity': 50,\n",
       "  'price': 200,\n",
       "  'brand': 'cakes n crafts'},\n",
       " '1103': {'name': 'soap', 'quantity': 40, 'price': 30, 'brand': 'Liril'},\n",
       " '1104': {'name': 'brush', 'quantity': 20, 'price': 20, 'brand': 'Oral B'},\n",
       " '1105': {'name': 'Paste', 'quantity': 70, 'price': 90, 'brand': 'Patanjali'},\n",
       " '1106': {'name': 'oil', 'quantity': 10, 'price': 100, 'brand': 'Saffola'},\n",
       " '1107': {'name': 'Haldi', 'quantity': 30, 'price': 90, 'brand': 'Jwala'},\n",
       " '1108': {'name': 'Mirch', 'quantity': 20, 'price': 40, 'brand': 'Jwala'},\n",
       " '1109': {'name': 'Detergent', 'quantity': 100, 'price': 40, 'brand': 'Ghadi'},\n",
       " '11010': {'name': 'Chocolate',\n",
       "  'quantity': 50,\n",
       "  'price': 20,\n",
       "  'brand': 'Dairy Milk'},\n",
       " '11011': {'name': 'Biscuit', 'quantity': 20, 'price': 10, 'brand': 'baurbon'},\n",
       " '11012': {'name': 'bournVita',\n",
       "  'quantity': 20,\n",
       "  'price': 10,\n",
       "  'brand': 'Cadbury'},\n",
       " '11013': {'name': 'Ghee', 'quantity': 50, 'price': 300, 'brand': 'Amul'},\n",
       " '11014': {'name': 'milk', 'quantity': 20, 'price': 50, 'brand': 'Amul'},\n",
       " '11015': {'name': 'MouthFreshner',\n",
       "  'quantity': 20,\n",
       "  'price': 5,\n",
       "  'brand': 'gold'},\n",
       " '11016': {'name': 'shampoo', 'quantity': 40, 'price': 5, 'brand': 'dove'},\n",
       " '11017': {'name': 'maggie', 'quantity': 20, 'price': 20, 'brand': 'nestle'},\n",
       " '11018': {'name': 'pasta', 'quantity': 20, 'price': 30, 'brand': 'nestle'},\n",
       " '11019': {'name': 'yippee', 'quantity': 30, 'price': 20, 'brand': 'yippee'},\n",
       " '11020': {'name': 'perk', 'quantity': 20, 'price': 10, 'brand': 'perk'},\n",
       " '11021': {'name': 'pencil', 'quantity': 20, 'price': 4, 'brand': 'apsara'},\n",
       " '11022': {'name': 'rubber', 'quantity': 20, 'price': 10, 'brand': 'apsara'},\n",
       " '11023': {'name': 'pen', 'quantity': 20, 'price': 10, 'brand': 'pentech'},\n",
       " '11024': {'name': 'copies', 'quantity': 20, 'price': 50, 'brand': 'NoteBook'},\n",
       " '11025': {'name': 'bag', 'quantity': 20, 'price': 400, 'brand': 'skybags'},\n",
       " '11026': {'name': 'coffee', 'quantity': 40, 'price': 10, 'brand': 'nestle'},\n",
       " '11027': {'name': 'apple', 'quantity': 20, 'price': 10, 'brand': 'apple'},\n",
       " '11028': {'name': 'lunch', 'quantity': 20, 'price': 150, 'brand': 'steel'},\n",
       " '11029': {'name': 'waterbottle',\n",
       "  'quantity': 20,\n",
       "  'price': 60,\n",
       "  'brand': 'water'},\n",
       " '11030': {'name': 'sugarfree',\n",
       "  'quantity': 20,\n",
       "  'price': 60,\n",
       "  'brand': 'madhur'},\n",
       " '11032': {'brand': 'Axe', 'name': 'deo', 'price': 500, 'quantity': 50}}"
      ]
     },
     "execution_count": 17,
     "metadata": {},
     "output_type": "execute_result"
    }
   ],
   "source": [
    "record"
   ]
  },
  {
   "cell_type": "markdown",
   "id": "482183bb",
   "metadata": {},
   "source": [
    "# User input and condition to check the inputis present or not (Purchasing item)"
   ]
  },
  {
   "cell_type": "code",
   "execution_count": 18,
   "id": "26ac00e5",
   "metadata": {},
   "outputs": [
    {
     "name": "stdout",
     "output_type": "stream",
     "text": [
      "Enter the Product ID : 1104\n",
      "Enter the quantity :3\n",
      "Date          Time \n",
      "2021-09-06 15:59:51.973098\n",
      "**********************************************\n",
      "Product Name  :  brush\n",
      "Product Brand :  Oral B\n",
      "Product Price :  20\n",
      "-------------------------------------------------\n",
      "Billing Amount:  60 Rupees\n",
      "-------------------------------------------------\n"
     ]
    }
   ],
   "source": [
    "ui_prod = input(\"Enter the Product ID : \")\n",
    "ui_quant = int(input(\"Enter the quantity :\"))\n",
    "print(\"Date          Time \")\n",
    "print(datetime.now())\n",
    "print(\"**********************************************\")\n",
    "if(ui_quant <= record[ui_prod]['quantity'] & record[ui_prod]['quantity']>0):\n",
    "\n",
    "  print(\"Product Name  : \" ,record[ui_prod]['name'])\n",
    "  print(\"Product Brand : \", record[ui_prod]['brand'])\n",
    "  print(\"Product Price : \" ,record[ui_prod]['price'])\n",
    "\n",
    "  print(\"-------------------------------------------------\")\n",
    "  print(\"Billing Amount: \", record[ui_prod]['price'] * ui_quant, \"Rupees\")\n",
    "  print(\"-------------------------------------------------\")\n",
    "\n",
    "\n",
    "  record[ui_prod]['quantity'] =  record[ui_prod]['quantity'] - ui_quant \n",
    "\n",
    "else:\n",
    "  if(record[ui_prod]['quantity']>0):\n",
    "    print(\"The quantity you asked for is not available. \",record[ui_prod]['quantity'],\"  Quantity available\")\n",
    "    print(\"**********************************************\")\n",
    "\n",
    "    print(\"Product Name  : \" ,record[ui_prod]['name'])\n",
    "    print(\"Product Brand : \", record[ui_prod]['brand'])\n",
    "    print(\"Product Price : \" ,record[ui_prod]['price'])\n",
    "\n",
    "    print(\"-------------------------------------------------\")\n",
    "    print(\"Billing Amount: \", record[ui_prod]['price'] * records[ui_prod]['quantity'], \"Rupees\")\n",
    "    print(\"-------------------------------------------------\")\n",
    "\n",
    "\n",
    "    record[ui_prod]['quantity'] =  record[ui_prod]['quantity'] - ui_quant \n",
    "  \n",
    "  else:\n",
    "    print(\"Sorry, Not Available!!\")"
   ]
  },
  {
   "cell_type": "code",
   "execution_count": 19,
   "id": "8c5df3e8",
   "metadata": {},
   "outputs": [
    {
     "data": {
      "text/plain": [
       "{'1101': {'name': 'candy', 'quantity': 20, 'price': 5, 'brand': 'cans'},\n",
       " '1102': {'name': 'cake',\n",
       "  'quantity': 50,\n",
       "  'price': 200,\n",
       "  'brand': 'cakes n crafts'},\n",
       " '1103': {'name': 'soap', 'quantity': 40, 'price': 30, 'brand': 'Liril'},\n",
       " '1104': {'name': 'brush', 'quantity': 17, 'price': 20, 'brand': 'Oral B'},\n",
       " '1105': {'name': 'Paste', 'quantity': 70, 'price': 90, 'brand': 'Patanjali'},\n",
       " '1106': {'name': 'oil', 'quantity': 10, 'price': 100, 'brand': 'Saffola'},\n",
       " '1107': {'name': 'Haldi', 'quantity': 30, 'price': 90, 'brand': 'Jwala'},\n",
       " '1108': {'name': 'Mirch', 'quantity': 20, 'price': 40, 'brand': 'Jwala'},\n",
       " '1109': {'name': 'Detergent', 'quantity': 100, 'price': 40, 'brand': 'Ghadi'},\n",
       " '11010': {'name': 'Chocolate',\n",
       "  'quantity': 50,\n",
       "  'price': 20,\n",
       "  'brand': 'Dairy Milk'},\n",
       " '11011': {'name': 'Biscuit', 'quantity': 20, 'price': 10, 'brand': 'baurbon'},\n",
       " '11012': {'name': 'bournVita',\n",
       "  'quantity': 20,\n",
       "  'price': 10,\n",
       "  'brand': 'Cadbury'},\n",
       " '11013': {'name': 'Ghee', 'quantity': 50, 'price': 300, 'brand': 'Amul'},\n",
       " '11014': {'name': 'milk', 'quantity': 20, 'price': 50, 'brand': 'Amul'},\n",
       " '11015': {'name': 'MouthFreshner',\n",
       "  'quantity': 20,\n",
       "  'price': 5,\n",
       "  'brand': 'gold'},\n",
       " '11016': {'name': 'shampoo', 'quantity': 40, 'price': 5, 'brand': 'dove'},\n",
       " '11017': {'name': 'maggie', 'quantity': 20, 'price': 20, 'brand': 'nestle'},\n",
       " '11018': {'name': 'pasta', 'quantity': 20, 'price': 30, 'brand': 'nestle'},\n",
       " '11019': {'name': 'yippee', 'quantity': 30, 'price': 20, 'brand': 'yippee'},\n",
       " '11020': {'name': 'perk', 'quantity': 20, 'price': 10, 'brand': 'perk'},\n",
       " '11021': {'name': 'pencil', 'quantity': 20, 'price': 4, 'brand': 'apsara'},\n",
       " '11022': {'name': 'rubber', 'quantity': 20, 'price': 10, 'brand': 'apsara'},\n",
       " '11023': {'name': 'pen', 'quantity': 20, 'price': 10, 'brand': 'pentech'},\n",
       " '11024': {'name': 'copies', 'quantity': 20, 'price': 50, 'brand': 'NoteBook'},\n",
       " '11025': {'name': 'bag', 'quantity': 20, 'price': 400, 'brand': 'skybags'},\n",
       " '11026': {'name': 'coffee', 'quantity': 40, 'price': 10, 'brand': 'nestle'},\n",
       " '11027': {'name': 'apple', 'quantity': 20, 'price': 10, 'brand': 'apple'},\n",
       " '11028': {'name': 'lunch', 'quantity': 20, 'price': 150, 'brand': 'steel'},\n",
       " '11029': {'name': 'waterbottle',\n",
       "  'quantity': 20,\n",
       "  'price': 60,\n",
       "  'brand': 'water'},\n",
       " '11030': {'name': 'sugarfree',\n",
       "  'quantity': 20,\n",
       "  'price': 60,\n",
       "  'brand': 'madhur'},\n",
       " '11032': {'brand': 'Axe', 'name': 'deo', 'price': 500, 'quantity': 50}}"
      ]
     },
     "execution_count": 19,
     "metadata": {},
     "output_type": "execute_result"
    }
   ],
   "source": [
    "record"
   ]
  },
  {
   "cell_type": "markdown",
   "id": "efe31626",
   "metadata": {},
   "source": [
    "# Checking if Quantity or Product is Updated"
   ]
  },
  {
   "cell_type": "code",
   "execution_count": 21,
   "id": "a9f38038",
   "metadata": {},
   "outputs": [
    {
     "data": {
      "text/plain": [
       "{'name': 'brush', 'quantity': 17, 'price': 20, 'brand': 'Oral B'}"
      ]
     },
     "execution_count": 21,
     "metadata": {},
     "output_type": "execute_result"
    }
   ],
   "source": [
    "record[ui_prod]"
   ]
  },
  {
   "cell_type": "code",
   "execution_count": 33,
   "id": "ec066518",
   "metadata": {},
   "outputs": [],
   "source": [
    "js = json.dumps(record)\n",
    "    \n",
    "fd = open('updatedRecord.json','w')\n",
    "fd.write(js)\n",
    "fd.close()"
   ]
  },
  {
   "cell_type": "code",
   "execution_count": 34,
   "id": "05e837ec",
   "metadata": {},
   "outputs": [
    {
     "data": {
      "text/plain": [
       "'{\"1101\": {\"name\": \"candy\", \"quantity\": 20, \"price\": 5, \"brand\": \"cans\"}, \"1102\": {\"name\": \"cake\", \"quantity\": 50, \"price\": 200, \"brand\": \"cakes n crafts\"}, \"1103\": {\"name\": \"soap\", \"quantity\": 40, \"price\": 30, \"brand\": \"Liril\"}, \"1104\": {\"name\": \"brush\", \"quantity\": 17, \"price\": 20, \"brand\": \"Oral B\"}, \"1105\": {\"name\": \"Paste\", \"quantity\": 70, \"price\": 90, \"brand\": \"Patanjali\"}, \"1106\": {\"name\": \"oil\", \"quantity\": 10, \"price\": 100, \"brand\": \"Saffola\"}, \"1107\": {\"name\": \"Haldi\", \"quantity\": 30, \"price\": 90, \"brand\": \"Jwala\"}, \"1108\": {\"name\": \"Mirch\", \"quantity\": 20, \"price\": 40, \"brand\": \"Jwala\"}, \"1109\": {\"name\": \"Detergent\", \"quantity\": 100, \"price\": 40, \"brand\": \"Ghadi\"}, \"11010\": {\"name\": \"Chocolate\", \"quantity\": 50, \"price\": 20, \"brand\": \"Dairy Milk\"}, \"11011\": {\"name\": \"Biscuit\", \"quantity\": 20, \"price\": 10, \"brand\": \"baurbon\"}, \"11012\": {\"name\": \"bournVita\", \"quantity\": 20, \"price\": 10, \"brand\": \"Cadbury\"}, \"11013\": {\"name\": \"Ghee\", \"quantity\": 50, \"price\": 300, \"brand\": \"Amul\"}, \"11014\": {\"name\": \"milk\", \"quantity\": 20, \"price\": 50, \"brand\": \"Amul\"}, \"11015\": {\"name\": \"MouthFreshner\", \"quantity\": 20, \"price\": 5, \"brand\": \"gold\"}, \"11016\": {\"name\": \"shampoo\", \"quantity\": 40, \"price\": 5, \"brand\": \"dove\"}, \"11017\": {\"name\": \"maggie\", \"quantity\": 20, \"price\": 20, \"brand\": \"nestle\"}, \"11018\": {\"name\": \"pasta\", \"quantity\": 20, \"price\": 30, \"brand\": \"nestle\"}, \"11019\": {\"name\": \"yippee\", \"quantity\": 30, \"price\": 20, \"brand\": \"yippee\"}, \"11020\": {\"name\": \"perk\", \"quantity\": 20, \"price\": 10, \"brand\": \"perk\"}, \"11021\": {\"name\": \"pencil\", \"quantity\": 20, \"price\": 4, \"brand\": \"apsara\"}, \"11022\": {\"name\": \"rubber\", \"quantity\": 20, \"price\": 10, \"brand\": \"apsara\"}, \"11023\": {\"name\": \"pen\", \"quantity\": 20, \"price\": 10, \"brand\": \"pentech\"}, \"11024\": {\"name\": \"copies\", \"quantity\": 20, \"price\": 50, \"brand\": \"NoteBook\"}, \"11025\": {\"name\": \"bag\", \"quantity\": 20, \"price\": 400, \"brand\": \"skybags\"}, \"11026\": {\"name\": \"coffee\", \"quantity\": 40, \"price\": 10, \"brand\": \"nestle\"}, \"11027\": {\"name\": \"apple\", \"quantity\": 20, \"price\": 10, \"brand\": \"apple\"}, \"11028\": {\"name\": \"lunch\", \"quantity\": 20, \"price\": 150, \"brand\": \"steel\"}, \"11029\": {\"name\": \"waterbottle\", \"quantity\": 20, \"price\": 60, \"brand\": \"water\"}, \"11030\": {\"name\": \"sugarfree\", \"quantity\": 20, \"price\": 60, \"brand\": \"madhur\"}, \"11032\": {\"brand\": \"Axe\", \"name\": \"deo\", \"price\": 500, \"quantity\": 50}}'"
      ]
     },
     "execution_count": 34,
     "metadata": {},
     "output_type": "execute_result"
    }
   ],
   "source": [
    "js"
   ]
  },
  {
   "cell_type": "code",
   "execution_count": 26,
   "id": "2ff3d2a6",
   "metadata": {},
   "outputs": [
    {
     "data": {
      "text/plain": [
       "{'Product ID': '1104',\n",
       " 'quantity': 3,\n",
       " 'amount': 60,\n",
       " 'price': 20,\n",
       " 'Product name': 'brush'}"
      ]
     },
     "execution_count": 26,
     "metadata": {},
     "output_type": "execute_result"
    }
   ],
   "source": [
    "{'Product ID': ui_prod ,'quantity': ui_quant,'amount': record[ui_prod]['price'] * ui_quant, 'price': record[ui_prod]['price'],'Product name': record[ui_prod]['name']}"
   ]
  },
  {
   "cell_type": "markdown",
   "id": "ababa275",
   "metadata": {},
   "source": [
    "# Total Sale of Product"
   ]
  },
  {
   "cell_type": "code",
   "execution_count": 27,
   "id": "ac4eb608",
   "metadata": {},
   "outputs": [],
   "source": [
    "sales = {1 :{'Product ID': ui_prod ,'quantity': ui_quant,'amount': record[ui_prod]['price'] * ui_quant, 'price': record[ui_prod]['price'],'Product name': record[ui_prod]['name']}}"
   ]
  },
  {
   "cell_type": "code",
   "execution_count": 39,
   "id": "c2229823",
   "metadata": {},
   "outputs": [
    {
     "data": {
      "text/plain": [
       "{1: {'Product ID': '1104',\n",
       "  'quantity': 3,\n",
       "  'amount': 60,\n",
       "  'price': 20,\n",
       "  'Product name': 'brush'}}"
      ]
     },
     "execution_count": 39,
     "metadata": {},
     "output_type": "execute_result"
    }
   ],
   "source": [
    "sales"
   ]
  },
  {
   "cell_type": "code",
   "execution_count": 43,
   "id": "095d891b",
   "metadata": {},
   "outputs": [
    {
     "data": {
      "text/plain": [
       "'{\"1\": {\"Product ID\": \"1104\", \"quantity\": 3, \"amount\": 60, \"price\": 20, \"Product name\": \"brush\"}}'"
      ]
     },
     "execution_count": 43,
     "metadata": {},
     "output_type": "execute_result"
    }
   ],
   "source": [
    "json.dumps(sales)"
   ]
  },
  {
   "cell_type": "code",
   "execution_count": null,
   "id": "ee1879e8",
   "metadata": {},
   "outputs": [],
   "source": []
  }
 ],
 "metadata": {
  "kernelspec": {
   "display_name": "Python 3",
   "language": "python",
   "name": "python3"
  },
  "language_info": {
   "codemirror_mode": {
    "name": "ipython",
    "version": 3
   },
   "file_extension": ".py",
   "mimetype": "text/x-python",
   "name": "python",
   "nbconvert_exporter": "python",
   "pygments_lexer": "ipython3",
   "version": "3.8.8"
  }
 },
 "nbformat": 4,
 "nbformat_minor": 5
}
